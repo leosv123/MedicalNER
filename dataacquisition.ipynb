{
 "cells": [
  {
   "cell_type": "code",
   "execution_count": 1,
   "metadata": {},
   "outputs": [],
   "source": [
    "from Bio import Entrez"
   ]
  },
  {
   "cell_type": "code",
   "execution_count": 3,
   "metadata": {},
   "outputs": [],
   "source": [
    "\n",
    "data = []\n",
    "\n",
    "# Set up email address to identify the user to PubMed\n",
    "Entrez.email = \"lsvannur98@gmail.com\"\n",
    "Entrez.timeout = 3600\n",
    "\n",
    "# Search for articles related to non-small cell lung cancer\n",
    "search_term = \"non-small cell lung cancer\"\n",
    "handle = Entrez.esearch(db=\"pubmed\", term=search_term, retmax=2000)\n",
    "record = Entrez.read(handle)\n",
    "handle.close()\n",
    "\n",
    "# Get a list of the PubMed IDs for the search results\n",
    "id_list = record[\"IdList\"]\n",
    "\n",
    "# Fetch the abstracts for the articles and print them out\n",
    "for pmid in id_list:\n",
    "    temp = {}\n",
    "    handle = Entrez.efetch(db=\"pubmed\", id=pmid, retmode=\"xml\")\n",
    "    record = Entrez.read(handle)\n",
    "    handle.close()\n",
    "    # print(record)\n",
    "    # # Extract relevant information from the article record\n",
    "    try:\n",
    "        article_title = record[\"PubmedArticle\"][0][\"MedlineCitation\"][\"Article\"][\"ArticleTitle\"]\n",
    "    except:\n",
    "        article_title = None\n",
    "    try:\n",
    "        article_abstract = record[\"PubmedArticle\"][0][\"MedlineCitation\"][\"Article\"][\"Abstract\"][\"AbstractText\"]\n",
    "    except:\n",
    "        article_abstract = None\n",
    "    try:\n",
    "        article_authors = record[\"PubmedArticle\"][0][\"MedlineCitation\"][\"Article\"][\"AuthorList\"]\n",
    "    except:\n",
    "        article_authors = None\n",
    "    \n",
    "    # # Print out the information\n",
    "    temp['article_title'] = article_title\n",
    "    temp['article_abstract'] = article_abstract\n",
    "    temp['article_authors'] = article_authors\n",
    "    data.append(temp)"
   ]
  },
  {
   "cell_type": "code",
   "execution_count": 5,
   "metadata": {},
   "outputs": [
    {
     "data": {
      "text/plain": [
       "{'article_title': 'Explore the mechanism and substance basis of Mahuang FuziXixin Decoction for the treatment of lung cancer based on network pharmacology and molecular docking.',\n",
       " 'article_abstract': [StringElement('Mahuang FuziXixin Decoction (MFXD) is a classic Chinese herbal formula for the treatment of lung cancer. However, its mechanisms of action are unclear. In present study, network pharmacology and molecular docking technology were employed to investigate the molecular mechanism and substance basis of MFXD for the treatment of lung cancer.', attributes={'Label': 'BACKGROUND'}),\n",
       "  StringElement('The active compounds and corresponding targets of MFXD were collected through the TCMSP database. OMIM and GeneCards databases were applied to filter the targets of lung cancer. The protein-protein interaction (PPI) were acquired through the STRING platform. Metascape and the Bioinformatics server were used for the visualization of GO and KEGG analysis. The tissue and organ distribution of targets was evaluated based on the BioGPS database. The binding affinity between potential targets and active compounds was evaluated by molecular docking.', attributes={'Label': 'METHOD'}),\n",
       "  StringElement('A total of 51 active compounds and 118 targets of MFXD were collected. The target with a higher degree were identified through the PPI network, namely AR, RELA, NCOA1, EGFR, FOS, CCND1, ESR1 and HSP90AA1. GO and KEGG analysis suggested that MFXD treatment of lung cancer mainly involves hormone and response to inorganic substance, transcription regular complex, transcription factor binding and Pathways in cancer. Experimental validation showed that MFXD treatment inhibited the proliferation of NSCLC cells through downregulation the expression of EGFR, HIF1A, NCOA1 and RELA. Moreover, molecular docking revealed that hydrogen bond and hydrophobic interaction contribute to the binding of the compounds to targets.', attributes={'Label': 'RESULT'}),\n",
       "  StringElement('Our findings comprehensively elucidated the actives, potential targets, and molecular mechanisms of MFXD against lung cancer, providing a promising strategy for the scientific basis and therapeutic mechanism of traditional Chinese medicine prescriptions for the treatment of the disease.', attributes={'Label': 'CONCLUSION'})],\n",
       " 'article_authors': ListElement([DictElement({'AffiliationInfo': [{'Identifier': [], 'Affiliation': \"College of Pharmacy, Shaanxi University of Chinese Medicine, Shiji Ave., Xi'an-xianyang New Ecomic Zone, Shaanxi, China.\"}], 'Identifier': [], 'LastName': 'Zhang', 'ForeName': 'Weitong', 'Initials': 'W'}, attributes={'ValidYN': 'Y'}), DictElement({'AffiliationInfo': [{'Identifier': [], 'Affiliation': \"College of Pharmacy, Shaanxi University of Chinese Medicine, Shiji Ave., Xi'an-xianyang New Ecomic Zone, Shaanxi, China.\"}], 'Identifier': [], 'LastName': 'Tian', 'ForeName': 'Wangqi', 'Initials': 'W'}, attributes={'ValidYN': 'Y'}), DictElement({'AffiliationInfo': [{'Identifier': [], 'Affiliation': \"College of Pharmacy, Shaanxi University of Chinese Medicine, Shiji Ave., Xi'an-xianyang New Ecomic Zone, Shaanxi, China.\"}], 'Identifier': [], 'LastName': 'Wang', 'ForeName': 'Yifan', 'Initials': 'Y'}, attributes={'ValidYN': 'Y'}), DictElement({'AffiliationInfo': [{'Identifier': [], 'Affiliation': 'College of Pharmacy, Gansu University of Chinese Medicine, Lanzhou, Gansu, China.'}], 'Identifier': [], 'LastName': 'Jin', 'ForeName': 'Xiaojie', 'Initials': 'X'}, attributes={'ValidYN': 'Y'}), DictElement({'AffiliationInfo': [{'Identifier': [], 'Affiliation': \"College of Pharmacy, Shaanxi University of Chinese Medicine, Shiji Ave., Xi'an-xianyang New Ecomic Zone, Shaanxi, China.\"}], 'Identifier': [], 'LastName': 'Guo', 'ForeName': 'Hui', 'Initials': 'H'}, attributes={'ValidYN': 'Y'}), DictElement({'AffiliationInfo': [{'Identifier': [], 'Affiliation': \"College of Pharmacy, Shaanxi University of Chinese Medicine, Shiji Ave., Xi'an-xianyang New Ecomic Zone, Shaanxi, China. Electronic address: wangyw09@gmail.com.\"}], 'Identifier': [], 'LastName': 'Wang', 'ForeName': 'Yuwei', 'Initials': 'Y'}, attributes={'ValidYN': 'Y'}), DictElement({'AffiliationInfo': [{'Identifier': [], 'Affiliation': \"College of Pharmacy, Shaanxi University of Chinese Medicine, Shiji Ave., Xi'an-xianyang New Ecomic Zone, Shaanxi, China.\"}], 'Identifier': [], 'LastName': 'Tang', 'ForeName': 'Yuping', 'Initials': 'Y'}, attributes={'ValidYN': 'Y'}), DictElement({'AffiliationInfo': [{'Identifier': [], 'Affiliation': 'State Key Laboratory of Quality Research in Chinese Medicine, Macau University of Science and Technology, Avenida Wai Long, Taipa, Macau (SAR), China.'}], 'Identifier': [], 'LastName': 'Yao', 'ForeName': 'Xiaojun', 'Initials': 'X'}, attributes={'ValidYN': 'Y'})], attributes={'CompleteYN': 'Y'})}"
      ]
     },
     "execution_count": 5,
     "metadata": {},
     "output_type": "execute_result"
    }
   ],
   "source": [
    "temp"
   ]
  },
  {
   "cell_type": "code",
   "execution_count": 6,
   "metadata": {},
   "outputs": [],
   "source": [
    "import pandas as pd\n",
    "df = pd.DataFrame(data)"
   ]
  },
  {
   "cell_type": "code",
   "execution_count": 7,
   "metadata": {},
   "outputs": [
    {
     "data": {
      "text/plain": [
       "article_title         4\n",
       "article_abstract    118\n",
       "article_authors      18\n",
       "dtype: int64"
      ]
     },
     "execution_count": 7,
     "metadata": {},
     "output_type": "execute_result"
    }
   ],
   "source": [
    "df.isna().sum()"
   ]
  },
  {
   "cell_type": "code",
   "execution_count": 9,
   "metadata": {},
   "outputs": [],
   "source": [
    "df['article_abstract'] = df['article_abstract'].apply(lambda x: x[0] if x is not None else None)"
   ]
  },
  {
   "cell_type": "code",
   "execution_count": 12,
   "metadata": {},
   "outputs": [
    {
     "data": {
      "text/html": [
       "<div>\n",
       "<style scoped>\n",
       "    .dataframe tbody tr th:only-of-type {\n",
       "        vertical-align: middle;\n",
       "    }\n",
       "\n",
       "    .dataframe tbody tr th {\n",
       "        vertical-align: top;\n",
       "    }\n",
       "\n",
       "    .dataframe thead th {\n",
       "        text-align: right;\n",
       "    }\n",
       "</style>\n",
       "<table border=\"1\" class=\"dataframe\">\n",
       "  <thead>\n",
       "    <tr style=\"text-align: right;\">\n",
       "      <th></th>\n",
       "      <th>article_title</th>\n",
       "      <th>article_abstract</th>\n",
       "      <th>article_authors</th>\n",
       "    </tr>\n",
       "  </thead>\n",
       "  <tbody>\n",
       "    <tr>\n",
       "      <th>0</th>\n",
       "      <td>Anti-Tumor Activity of Orally Administered Gef...</td>\n",
       "      <td>Gefitinib (GFT) is a tyrosine kinase inhibitor...</td>\n",
       "      <td>[{'AffiliationInfo': [{'Identifier': [], 'Affi...</td>\n",
       "    </tr>\n",
       "    <tr>\n",
       "      <th>1</th>\n",
       "      <td>DoubleSG-DTA: Deep Learning for Drug Discovery...</td>\n",
       "      <td>Drug-targeted therapies are promising approach...</td>\n",
       "      <td>[{'AffiliationInfo': [{'Identifier': [], 'Affi...</td>\n",
       "    </tr>\n",
       "    <tr>\n",
       "      <th>2</th>\n",
       "      <td>A Non-Conventional Platinum Drug against a Non...</td>\n",
       "      <td>A dinuclear Pt(II) complex with putrescine as ...</td>\n",
       "      <td>[{'AffiliationInfo': [{'Identifier': [], 'Affi...</td>\n",
       "    </tr>\n",
       "    <tr>\n",
       "      <th>3</th>\n",
       "      <td>Long-Term Response of Pembrolizumab in a Patie...</td>\n",
       "      <td>In patients with renal failure and hemodialysi...</td>\n",
       "      <td>[{'AffiliationInfo': [{'Identifier': [], 'Affi...</td>\n",
       "    </tr>\n",
       "    <tr>\n",
       "      <th>4</th>\n",
       "      <td>Updated Views in Targeted Therapy in the Patie...</td>\n",
       "      <td>Non-small cell lung cancer (NSCLC) is the most...</td>\n",
       "      <td>[{'AffiliationInfo': [{'Identifier': [], 'Affi...</td>\n",
       "    </tr>\n",
       "    <tr>\n",
       "      <th>...</th>\n",
       "      <td>...</td>\n",
       "      <td>...</td>\n",
       "      <td>...</td>\n",
       "    </tr>\n",
       "    <tr>\n",
       "      <th>1995</th>\n",
       "      <td>Differences in Sustained Cellular Effects of M...</td>\n",
       "      <td>Intracellular distribution of drug compounds i...</td>\n",
       "      <td>[{'AffiliationInfo': [{'Identifier': [], 'Affi...</td>\n",
       "    </tr>\n",
       "    <tr>\n",
       "      <th>1996</th>\n",
       "      <td>MicroRNA-206 in human cancer: Mechanistic and ...</td>\n",
       "      <td>MicroRNAs (miRNAs), small non-coding RNAs appr...</td>\n",
       "      <td>[{'AffiliationInfo': [{'Identifier': [], 'Affi...</td>\n",
       "    </tr>\n",
       "    <tr>\n",
       "      <th>1997</th>\n",
       "      <td>Commentary: Old Data Provide New Insights Into...</td>\n",
       "      <td>None</td>\n",
       "      <td>[{'AffiliationInfo': [{'Identifier': [], 'Affi...</td>\n",
       "    </tr>\n",
       "    <tr>\n",
       "      <th>1998</th>\n",
       "      <td>Understanding NSCLC, one cell at a time.</td>\n",
       "      <td>Lung cancers are very heterogeneous, a feature...</td>\n",
       "      <td>[{'AffiliationInfo': [{'Identifier': [], 'Affi...</td>\n",
       "    </tr>\n",
       "    <tr>\n",
       "      <th>1999</th>\n",
       "      <td>Explore the mechanism and substance basis of M...</td>\n",
       "      <td>Mahuang FuziXixin Decoction (MFXD) is a classi...</td>\n",
       "      <td>[{'AffiliationInfo': [{'Identifier': [], 'Affi...</td>\n",
       "    </tr>\n",
       "  </tbody>\n",
       "</table>\n",
       "<p>2000 rows × 3 columns</p>\n",
       "</div>"
      ],
      "text/plain": [
       "                                          article_title  \\\n",
       "0     Anti-Tumor Activity of Orally Administered Gef...   \n",
       "1     DoubleSG-DTA: Deep Learning for Drug Discovery...   \n",
       "2     A Non-Conventional Platinum Drug against a Non...   \n",
       "3     Long-Term Response of Pembrolizumab in a Patie...   \n",
       "4     Updated Views in Targeted Therapy in the Patie...   \n",
       "...                                                 ...   \n",
       "1995  Differences in Sustained Cellular Effects of M...   \n",
       "1996  MicroRNA-206 in human cancer: Mechanistic and ...   \n",
       "1997  Commentary: Old Data Provide New Insights Into...   \n",
       "1998           Understanding NSCLC, one cell at a time.   \n",
       "1999  Explore the mechanism and substance basis of M...   \n",
       "\n",
       "                                       article_abstract  \\\n",
       "0     Gefitinib (GFT) is a tyrosine kinase inhibitor...   \n",
       "1     Drug-targeted therapies are promising approach...   \n",
       "2     A dinuclear Pt(II) complex with putrescine as ...   \n",
       "3     In patients with renal failure and hemodialysi...   \n",
       "4     Non-small cell lung cancer (NSCLC) is the most...   \n",
       "...                                                 ...   \n",
       "1995  Intracellular distribution of drug compounds i...   \n",
       "1996  MicroRNAs (miRNAs), small non-coding RNAs appr...   \n",
       "1997                                               None   \n",
       "1998  Lung cancers are very heterogeneous, a feature...   \n",
       "1999  Mahuang FuziXixin Decoction (MFXD) is a classi...   \n",
       "\n",
       "                                        article_authors  \n",
       "0     [{'AffiliationInfo': [{'Identifier': [], 'Affi...  \n",
       "1     [{'AffiliationInfo': [{'Identifier': [], 'Affi...  \n",
       "2     [{'AffiliationInfo': [{'Identifier': [], 'Affi...  \n",
       "3     [{'AffiliationInfo': [{'Identifier': [], 'Affi...  \n",
       "4     [{'AffiliationInfo': [{'Identifier': [], 'Affi...  \n",
       "...                                                 ...  \n",
       "1995  [{'AffiliationInfo': [{'Identifier': [], 'Affi...  \n",
       "1996  [{'AffiliationInfo': [{'Identifier': [], 'Affi...  \n",
       "1997  [{'AffiliationInfo': [{'Identifier': [], 'Affi...  \n",
       "1998  [{'AffiliationInfo': [{'Identifier': [], 'Affi...  \n",
       "1999  [{'AffiliationInfo': [{'Identifier': [], 'Affi...  \n",
       "\n",
       "[2000 rows x 3 columns]"
      ]
     },
     "execution_count": 12,
     "metadata": {},
     "output_type": "execute_result"
    }
   ],
   "source": [
    "df"
   ]
  },
  {
   "cell_type": "code",
   "execution_count": 22,
   "metadata": {},
   "outputs": [],
   "source": [
    "# #!/usr/bin/env python\n",
    "# # numpy and biopython are required -- pip install numpy biopython\n",
    "\n",
    "# from Bio import Entrez\n",
    "# from Bio import Medline\n",
    "\n",
    "# MAX_COUNT = 1\n",
    "# TERM = 'Tuberculosis'\n",
    "\n",
    "# print('Getting {0} publications containing {1}...'.format(MAX_COUNT, TERM))\n",
    "# Entrez.email = 'lsvannur98@gmail.com'\n",
    "# h = Entrez.esearch(db='pubmed', retmax=MAX_COUNT, term=TERM)\n",
    "# result = Entrez.read(h)\n",
    "# print('Total number of publications containing {0}: {1}'.format(TERM, result['Count']))\n",
    "# ids = result['IdList']\n",
    "# h = Entrez.efetch(id=ids, db=\"pubmed\",\n",
    "#                        rettype=\"full\",\n",
    "#                        retmode=\"xml\",\n",
    "#                        retmax=max)\n",
    "# records = Medline.parse(h)\n",
    "# print(records)\n",
    "# authors = []\n",
    "# for record in records:\n",
    "#     print(record)\n",
    "#     # au = record.get('AU', '?')\n",
    "#     # for a in au: \n",
    "#     #     if a not in authors:\n",
    "#     #         authors.append(a)\n",
    "#     # authors.sort()\n",
    "# #print('Authors: {0}'.format(', '.join(authors)))"
   ]
  },
  {
   "cell_type": "code",
   "execution_count": null,
   "metadata": {},
   "outputs": [],
   "source": []
  }
 ],
 "metadata": {
  "kernelspec": {
   "display_name": "Python 3.9.12 ('base': conda)",
   "language": "python",
   "name": "python3"
  },
  "language_info": {
   "codemirror_mode": {
    "name": "ipython",
    "version": 3
   },
   "file_extension": ".py",
   "mimetype": "text/x-python",
   "name": "python",
   "nbconvert_exporter": "python",
   "pygments_lexer": "ipython3",
   "version": "3.9.12"
  },
  "orig_nbformat": 4,
  "vscode": {
   "interpreter": {
    "hash": "e5bce0f92a8cf2dd4e4cacd57473752bda9413a07787bb56fad96fb5aad2e662"
   }
  }
 },
 "nbformat": 4,
 "nbformat_minor": 2
}
